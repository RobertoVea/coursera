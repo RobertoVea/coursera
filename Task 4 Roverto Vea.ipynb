{
 "cells":[
  {
   "cell_type":"markdown",
   "source":[
    "# Question 1: \n",
    "## For the \"Median value of owner-occupied homes\" provide a boxplot"
   ],
   "attachments":{
    
   },
   "metadata":{
    "datalore":{
     "node_id":"iSTSmVKUm73SFNgGfKVyW9",
     "type":"MD",
     "hide_input_from_viewers":true,
     "hide_output_from_viewers":true
    }
   }
  },
  {
   "cell_type":"code",
   "source":[
    "import pandas as pd\n",
    "import seaborn as sns\n",
    "boston_url = 'https:\/\/cf-courses-data.s3.us.cloud-object-storage.appdomain.cloud\/IBMDeveloperSkillsNetwork-ST0151EN-SkillsNetwork\/labs\/boston_housing.csv'\n",
    "boston_df=pd.read_csv(boston_url)\n",
    "#print(boston_df.info())\n",
    "\n",
    "boxplot=sns.boxplot(y='MEDV',data=boston_df)\n",
    "boxplot.set_title('Median value of owner-occupied homes (MEDIV')\n",
    "print('The plot shows how distributed is the variable MEDV')"
   ],
   "execution_count":7,
   "outputs":[
    {
     "name":"stdout",
     "text":[
      "The plot shows how distributed is the variable MEDV\n"
     ],
     "output_type":"stream"
    },
    {
     "data":{
      "image\/png":"[encoded data removed]"
     },
     "metadata":{
      "image\/png":{
       
      }
     },
     "output_type":"display_data"
    }
   ],
   "metadata":{
    "datalore":{
     "node_id":"UYuQ4kLQRx0IpwUDx8KJpm",
     "type":"CODE",
     "hide_input_from_viewers":true,
     "hide_output_from_viewers":true
    }
   }
  },
  {
   "cell_type":"markdown",
   "source":[
    "# Question 2: \n",
    "## Provide a  bar plot for the Charles river variable"
   ],
   "attachments":{
    
   },
   "metadata":{
    "datalore":{
     "node_id":"7pEoAIRqxy1XQRUtGMEEU6",
     "type":"MD",
     "hide_input_from_viewers":true,
     "hide_output_from_viewers":true
    }
   }
  },
  {
   "cell_type":"code",
   "source":[
    "barplot=sns.countplot(x='CHAS',data=boston_df)\n",
    "barplot.set_title('Count of homes near Charles River (CHAS')\n",
    "print('The plot shows that there are less homes near Charles River')"
   ],
   "execution_count":8,
   "outputs":[
    {
     "data":{
      "text\/plain":[
       "Text(0.5, 1.0, 'Count of homes near Charles River (CHAS')"
      ]
     },
     "metadata":{
      
     },
     "output_type":"display_data"
    },
    {
     "data":{
      "image\/png":"[encoded data removed]"
     },
     "metadata":{
      "image\/png":{
       
      }
     },
     "output_type":"display_data"
    }
   ],
   "metadata":{
    "datalore":{
     "node_id":"XLj3DQnU5bakz0D742SbGl",
     "type":"CODE",
     "hide_input_from_viewers":true,
     "hide_output_from_viewers":true
    }
   }
  },
  {
   "cell_type":"code",
   "source":[
    "groupped_df=boston_df.groupby('CHAS').count()\n",
    "print(groupped_df)\n",
    "print('There are 471 values 0 for the variable CHAS and 35 values of 1')"
   ],
   "execution_count":16,
   "outputs":[
    {
     "name":"stdout",
     "text":[
      "      Unnamed: 0  CRIM   ZN  INDUS  NOX   RM  AGE  DIS  RAD  TAX  PTRATIO  \\\n",
      "CHAS                                                                        \n",
      "0.0          471   471  471    471  471  471  471  471  471  471      471   \n",
      "1.0           35    35   35     35   35   35   35   35   35   35       35   \n",
      "\n",
      "      LSTAT  MEDV  \n",
      "CHAS               \n",
      "0.0     471   471  \n",
      "1.0      35    35  \n",
      "There are 471 values 0 for the variable CHAS and 35 values of 1\n"
     ],
     "output_type":"stream"
    }
   ],
   "metadata":{
    "datalore":{
     "node_id":"Ru3BmdY5x19bAmPMZfpa8n",
     "type":"CODE",
     "hide_input_from_viewers":true,
     "hide_output_from_viewers":true
    }
   }
  },
  {
   "cell_type":"markdown",
   "source":[
    "# Question 3: \n",
    "## Provide a boxplot for the MEDV variable vs the AGE variable. (Discretize the age variable into three groups of 35 years and younger, between 35 and 70 years and 70 years and older)"
   ],
   "attachments":{
    
   },
   "metadata":{
    "datalore":{
     "node_id":"lOZd0OCdIleZd6OaG6hzPs",
     "type":"MD",
     "hide_input_from_viewers":true,
     "hide_output_from_viewers":true
    }
   }
  },
  {
   "cell_type":"code",
   "source":[
    "boston_df.loc[(boston_df['AGE'] <= 35), 'Age_group'] = '0: 35 years or younger'\n",
    "boston_df.loc[(boston_df['AGE'] > 35) & (boston_df['AGE'] < 70), 'Age_group'] = '1: Age more than 35 and lower than 70 years'\n",
    "boston_df.loc[(boston_df['AGE'] >= 70), 'Age_group'] = '2: 70 years and older'\n",
    "graph3 = sns.boxplot(x = 'MEDV', y = 'Age_group', data = boston_df)\n",
    "graph3.set_title('Median of owner-occupied homes in Age group (AGE)')\n",
    "print('\\n'*3,'The graph shows how distributed the group of ages are in the sample')"
   ],
   "execution_count":59,
   "outputs":[
    {
     "name":"stdout",
     "text":[
      "\n",
      "\n",
      "\n",
      " The graph shows how distributed the group of ages are in the sample\n"
     ],
     "output_type":"stream"
    },
    {
     "data":{
      "image\/png":"[encoded data removed]"
     },
     "metadata":{
      "image\/png":{
       
      }
     },
     "output_type":"display_data"
    }
   ],
   "metadata":{
    "datalore":{
     "node_id":"PGzWmPzzsiESoanSN1nRCR",
     "type":"CODE",
     "hide_input_from_viewers":true,
     "hide_output_from_viewers":true
    }
   }
  },
  {
   "cell_type":"markdown",
   "source":[
    "# Question 4:\n",
    "## Provide a scatter plot to show the relationship between Nitric oxide concentrations and the proportion of non-retail business acres per town. What can you say about the relationship?"
   ],
   "attachments":{
    
   },
   "metadata":{
    "datalore":{
     "node_id":"oeogcBtqfJUTOqx4cJDNLd",
     "type":"MD",
     "hide_input_from_viewers":true,
     "hide_output_from_viewers":true
    }
   }
  },
  {
   "cell_type":"code",
   "source":[
    "graph4 = sns.scatterplot(y = 'NOX', x = 'INDUS', data = boston_df)\n",
    "graph4.set_title('Nitric oxide concentration per proportion of non-retail business acres per town (NOX vs INDUS)')\n",
    "print('\\n'*3,'It seems to be less Nitric oxide concentrations as there is less proportion of non-retail business acres per town.\\n There could be positive a correlation between these 2 variables')"
   ],
   "execution_count":60,
   "outputs":[
    {
     "name":"stdout",
     "text":[
      "\n",
      "\n",
      "\n",
      " It seems to be less Nitric oxide concentrations as there is less proportion of non-retail business acres per town.\n",
      " There could be positive a correlation between these 2 variables\n"
     ],
     "output_type":"stream"
    },
    {
     "data":{
      "image\/png":"[encoded data removed]"
     },
     "metadata":{
      "image\/png":{
       
      }
     },
     "output_type":"display_data"
    }
   ],
   "metadata":{
    "datalore":{
     "node_id":"MyiYVU9NscNhJ2RJIYsTg5",
     "type":"CODE",
     "hide_input_from_viewers":true,
     "hide_output_from_viewers":true
    }
   }
  },
  {
   "cell_type":"markdown",
   "source":[
    "# Question 5:\n",
    "## Create a histogram for the pupil to teacher ratio variable"
   ],
   "attachments":{
    
   },
   "metadata":{
    "datalore":{
     "node_id":"aTVlFgMD7vJSQ8MMaei5H8",
     "type":"MD",
     "hide_input_from_viewers":true,
     "hide_output_from_viewers":true
    }
   }
  },
  {
   "cell_type":"code",
   "source":[
    "import seaborn as sns2\n",
    "import matplotlib as plt\n",
    "graph5 = sns2.countplot(x = 'PTRATIO', data = boston_df)\n",
    "sns2.set(rc={'figure.figsize':(40,10)})\n",
    "#sns.set(font_scale=1)\n",
    "graph5.set_title('Pupil to teacher ratio per town')\n",
    "\n",
    "plt.show()\n",
    "print('\\n The plot shows the amount of PTRATIO in the sample, with the highest value in 20.2 PTRATIO with 140 values \\n the second highest value has less than 40')"
   ],
   "execution_count":62,
   "outputs":[
    {
     "ename":"AttributeError",
     "evalue":"AttributeError: module 'matplotlib' has no attribute 'show'",
     "traceback":[
      "\u001b[0;31m---------------------------------------------------------------------------",
      "Traceback (most recent call last)",
      "    at line 8 in <module>",
      "    at line 226 in __getattr__(name)",
      "AttributeError: module 'matplotlib' has no attribute 'show'"
     ],
     "output_type":"error"
    },
    {
     "data":{
      "image\/png":"[encoded data removed]"
     },
     "metadata":{
      "image\/png":{
       
      }
     },
     "output_type":"display_data"
    }
   ],
   "metadata":{
    "datalore":{
     "node_id":"o0pn41PTGfQdC9NBM0JIl7",
     "type":"CODE",
     "hide_input_from_viewers":true,
     "hide_output_from_viewers":true
    }
   }
  },
  {
   "cell_type":"markdown",
   "source":[
    "# Task5, Q1:\n",
    "## Is there a significant difference in median value of houses bounded by the Charles river or not? (T-test for independent samples)\n",
    "### Notes:\n",
    "State your hypothesis.\n",
    "\n",
    "Use α = 0.05\n",
    "\n",
    "Perform the test Statistics.\n",
    "\n",
    "State the conclusion from the test."
   ],
   "attachments":{
    
   },
   "metadata":{
    "datalore":{
     "node_id":"cLJHVbocl8sKzj5bHjlstL",
     "type":"MD",
     "hide_input_from_viewers":true,
     "hide_output_from_viewers":true
    }
   }
  },
  {
   "cell_type":"code",
   "source":[
    "import scipy.stats\n",
    "#NULL HYPOTESIS -> There is no significant difference in median value between houses bounded and not bounded by the Charles River\n",
    "#ALT HYPOTESIS  -> Alternative Hypothesis -> There's a significant difference in median value between houses bounded and not bounded by the Charles River\n",
    "boston_df.loc[(boston_df['CHAS'] == 0), 'CHAS_T'] = 'FAR'\n",
    "boston_df.loc[(boston_df['CHAS'] == 1), 'CHAS_T'] = 'NEAR'\n",
    "test=scipy.stats.ttest_ind(boston_df[boston_df['CHAS_T'] == 'FAR']['MEDV'], boston_df[boston_df['CHAS_T'] == 'NEAR']['MEDV'], equal_var = True)\n",
    "print(test)\n",
    "print('As the p-value is less than 0.05, we reject the Null Hypothesis, \\n meaning there is not a statistical difference in median value betwenn houses near the Charles River and houses far away')"
   ],
   "execution_count":64,
   "outputs":[
    {
     "name":"stdout",
     "text":[
      "Ttest_indResult(statistic=-3.996437466090509, pvalue=7.390623170519905e-05)\n",
      "As the p-value is less than 0.05, we reject the Null Hypothesis, \n",
      " meaning there is not a statistical difference in median value betwenn houses near the Charles River and houses far away\n"
     ],
     "output_type":"stream"
    }
   ],
   "metadata":{
    "datalore":{
     "node_id":"ENWYrHGxX297lsqv2dPqgX",
     "type":"CODE",
     "hide_input_from_viewers":true,
     "hide_output_from_viewers":true
    }
   }
  },
  {
   "cell_type":"code",
   "source":[
    "print('Question 1: There is no statistical difference in median value betwenn houses near the Charles River and houses far away')"
   ],
   "execution_count":65,
   "outputs":[
    {
     "name":"stdout",
     "text":[
      "Question 1: There is no statistical difference in median value betwenn houses near the Charles River and houses far away\n"
     ],
     "output_type":"stream"
    }
   ],
   "metadata":{
    "datalore":{
     "node_id":"Pu0VyFHxjt8m2skSHRbUyU",
     "type":"CODE",
     "hide_input_from_viewers":true,
     "hide_output_from_viewers":true
    }
   }
  },
  {
   "cell_type":"markdown",
   "source":[
    "# Task 5, Q2:\n",
    "## Is there a difference in Median values of houses (MEDV) for each proportion of owner occupied units built prior to 1940 (AGE)? (ANOVA)"
   ],
   "attachments":{
    
   },
   "metadata":{
    "datalore":{
     "node_id":"c4EjHGm9SGujA3KkrU1JPr",
     "type":"MD",
     "hide_input_from_viewers":true,
     "hide_output_from_viewers":true
    }
   }
  },
  {
   "cell_type":"code",
   "source":[
    "import statsmodels.api as sm\n",
    "#NULL HYPOTESIS: There is not a statistical difference in the median values of houses (MEDV) for each proportion of owner occpied units built prior to 1940\n",
    "#ALTERNATIVE HYPOTESIS: There is a statistical difference in the median values of houses (MEDV) for each proportion of owner occpied units built prior to 1940\n",
    "\n",
    "from statsmodels.formula.api import ols\n",
    "lm = ols('MEDV ~ AGE', data = boston_df).fit()\n",
    "anova = sm.stats.anova_lm(lm)\n",
    "print(anova)\n",
    "print('As p-value is less than 0.05, we fail to accept the Null Hypothesis. \\nWe conclude that there is statistical difference in Median values of houses (MEDV) \\nfor each proportion of owner occpied units built prior to 1940')"
   ],
   "execution_count":67,
   "outputs":[
    {
     "name":"stdout",
     "text":[
      "             df        sum_sq      mean_sq          F        PR(>F)\n",
      "AGE         1.0   6069.761065  6069.761065  83.477459  1.569982e-18\n",
      "Residual  504.0  36646.534350    72.711378        NaN           NaN\n",
      "As p-value is less than 0.05, we fail to accept the Null Hypothesis. \n",
      "We conclude that there is statistical difference in Median values of houses (MEDV) \n",
      "for each proportion of owner occpied units built prior to 1940\n"
     ],
     "output_type":"stream"
    }
   ],
   "metadata":{
    "datalore":{
     "node_id":"V0FN1HaO53SeJMpglEEOxg",
     "type":"CODE",
     "hide_input_from_viewers":true,
     "hide_output_from_viewers":true
    }
   }
  },
  {
   "cell_type":"code",
   "source":[
    "print('Question 8: There is statistical difference in Median values of houses (MEDV) for each proportion of owner occpied units built prior to 1940')"
   ],
   "execution_count":68,
   "outputs":[
    {
     "name":"stdout",
     "text":[
      "Question 8: There is statistical difference in Median values of houses (MEDV) for each proportion of owner occpied units built prior to 1940\n"
     ],
     "output_type":"stream"
    }
   ],
   "metadata":{
    "datalore":{
     "node_id":"cf28zzGVEKgqUg595XeUw6",
     "type":"CODE",
     "hide_input_from_viewers":true,
     "hide_output_from_viewers":true
    }
   }
  },
  {
   "cell_type":"markdown",
   "source":[
    "# Task 5, Q4:\n",
    "## What is the impact of an additional weighted distance  to the five Boston employment centres on the median value of owner occupied homes? (Regression analysis)"
   ],
   "attachments":{
    
   },
   "metadata":{
    "datalore":{
     "node_id":"Ead80QOfbhefxfSoATDHZ3",
     "type":"MD",
     "hide_input_from_viewers":true,
     "hide_output_from_viewers":true
    }
   }
  },
  {
   "cell_type":"code",
   "source":[
    "#NULL HYPOTESIS: Nitric Oxide concentration is not correlated with the proportion of non-retail business acres per town\n",
    "\n",
    "#ALTERNATIVE HYPOTESIS: Nitric Oxide concentration is correlated with the proportion of non-retail business acres per town\n",
    "boston_url = 'https:\/\/cf-courses-data.s3.us.cloud-object-storage.appdomain.cloud\/IBMDeveloperSkillsNetwork-ST0151EN-SkillsNetwork\/labs\/boston_housing.csv'\n",
    "boston_df=pd.read_csv(boston_url)\n",
    "\n",
    "scipy.stats.pearsonr(boston_df['NOX'], boston_df['INDUS'])"
   ],
   "execution_count":76,
   "outputs":[
    {
     "data":{
      "text\/plain":[
       "PearsonRResult(statistic=0.7636514469209151, pvalue=7.913361061238693e-98)"
      ]
     },
     "metadata":{
      
     },
     "output_type":"display_data"
    }
   ],
   "metadata":{
    "datalore":{
     "node_id":"n9DTBkNnKl0HsqgBZnwSE4",
     "type":"CODE",
     "hide_input_from_viewers":true,
     "hide_output_from_viewers":true
    }
   }
  },
  {
   "cell_type":"code",
   "source":[
    "x = boston_df['DIS']\n",
    "y = boston_df['MEDV']\n",
    "\n",
    "x = sm.add_constant(x)\n",
    "\n",
    "model = sm.OLS(y, x).fit()\n",
    "predisction = model.predict(x)\n",
    "\n",
    "model.summary()"
   ],
   "execution_count":77,
   "outputs":[
    {
     "data":{
      "text\/html":[
       "<table class=\"simpletable\">\n",
       "<caption>OLS Regression Results<\/caption>\n",
       "<tr>\n",
       "  <th>Dep. Variable:<\/th>          <td>MEDV<\/td>       <th>  R-squared:         <\/th> <td>   0.062<\/td>\n",
       "<\/tr>\n",
       "<tr>\n",
       "  <th>Model:<\/th>                   <td>OLS<\/td>       <th>  Adj. R-squared:    <\/th> <td>   0.061<\/td>\n",
       "<\/tr>\n",
       "<tr>\n",
       "  <th>Method:<\/th>             <td>Least Squares<\/td>  <th>  F-statistic:       <\/th> <td>   33.58<\/td>\n",
       "<\/tr>\n",
       "<tr>\n",
       "  <th>Date:<\/th>             <td>Tue, 14 Nov 2023<\/td> <th>  Prob (F-statistic):<\/th> <td>1.21e-08<\/td>\n",
       "<\/tr>\n",
       "<tr>\n",
       "  <th>Time:<\/th>                 <td>01:50:58<\/td>     <th>  Log-Likelihood:    <\/th> <td> -1823.9<\/td>\n",
       "<\/tr>\n",
       "<tr>\n",
       "  <th>No. Observations:<\/th>      <td>   506<\/td>      <th>  AIC:               <\/th> <td>   3652.<\/td>\n",
       "<\/tr>\n",
       "<tr>\n",
       "  <th>Df Residuals:<\/th>          <td>   504<\/td>      <th>  BIC:               <\/th> <td>   3660.<\/td>\n",
       "<\/tr>\n",
       "<tr>\n",
       "  <th>Df Model:<\/th>              <td>     1<\/td>      <th>                     <\/th>     <td> <\/td>   \n",
       "<\/tr>\n",
       "<tr>\n",
       "  <th>Covariance Type:<\/th>      <td>nonrobust<\/td>    <th>                     <\/th>     <td> <\/td>   \n",
       "<\/tr>\n",
       "<\/table>\n",
       "<table class=\"simpletable\">\n",
       "<tr>\n",
       "    <td><\/td>       <th>coef<\/th>     <th>std err<\/th>      <th>t<\/th>      <th>P>|t|<\/th>  <th>[0.025<\/th>    <th>0.975]<\/th>  \n",
       "<\/tr>\n",
       "<tr>\n",
       "  <th>const<\/th> <td>   18.3901<\/td> <td>    0.817<\/td> <td>   22.499<\/td> <td> 0.000<\/td> <td>   16.784<\/td> <td>   19.996<\/td>\n",
       "<\/tr>\n",
       "<tr>\n",
       "  <th>DIS<\/th>   <td>    1.0916<\/td> <td>    0.188<\/td> <td>    5.795<\/td> <td> 0.000<\/td> <td>    0.722<\/td> <td>    1.462<\/td>\n",
       "<\/tr>\n",
       "<\/table>\n",
       "<table class=\"simpletable\">\n",
       "<tr>\n",
       "  <th>Omnibus:<\/th>       <td>139.779<\/td> <th>  Durbin-Watson:     <\/th> <td>   0.570<\/td>\n",
       "<\/tr>\n",
       "<tr>\n",
       "  <th>Prob(Omnibus):<\/th> <td> 0.000<\/td>  <th>  Jarque-Bera (JB):  <\/th> <td> 305.104<\/td>\n",
       "<\/tr>\n",
       "<tr>\n",
       "  <th>Skew:<\/th>          <td> 1.466<\/td>  <th>  Prob(JB):          <\/th> <td>5.59e-67<\/td>\n",
       "<\/tr>\n",
       "<tr>\n",
       "  <th>Kurtosis:<\/th>      <td> 5.424<\/td>  <th>  Cond. No.          <\/th> <td>    9.32<\/td>\n",
       "<\/tr>\n",
       "<\/table><br\/><br\/>Notes:<br\/>[1] Standard Errors assume that the covariance matrix of the errors is correctly specified."
      ]
     },
     "metadata":{
      
     },
     "output_type":"display_data"
    }
   ],
   "metadata":{
    "datalore":{
     "node_id":"ozvWfx6VP8iYfgerHYXEGn",
     "type":"CODE",
     "hide_input_from_viewers":true,
     "hide_output_from_viewers":true
    }
   }
  },
  {
   "cell_type":"code",
   "source":[
    "print('Question 4: The coef DIS is 1.0916, meaning that adding weighted distance to the 5 employment centers in boston, would increase 1.0916 the median value of owner occupied homes')"
   ],
   "execution_count":78,
   "outputs":[
    {
     "name":"stdout",
     "text":[
      "Question 4: The coef DIS is 1.0916, meaning that adding weighted distance to the 5 employment centers in boston, would increase 1.0916 the median value of owner occupied homes\n"
     ],
     "output_type":"stream"
    }
   ],
   "metadata":{
    "datalore":{
     "node_id":"IDIwQ1rji5P0SzEbriw8oN",
     "type":"CODE",
     "hide_input_from_viewers":true,
     "hide_output_from_viewers":true
    }
   }
  }
 ],
 "metadata":{
  "kernelspec":{
   "display_name":"Python",
   "language":"python",
   "name":"python"
  },
  "datalore":{
   "computation_mode":"JUPYTER",
   "package_manager":"pip",
   "base_environment":"default",
   "packages":[
    
   ],
   "report_row_ids":[
    
   ],
   "version":3
  }
 },
 "nbformat":4,
 "nbformat_minor":4
}